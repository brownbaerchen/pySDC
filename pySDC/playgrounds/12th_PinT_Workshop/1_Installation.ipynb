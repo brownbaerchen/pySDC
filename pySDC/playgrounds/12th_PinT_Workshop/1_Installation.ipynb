{
 "cells": [
  {
   "cell_type": "markdown",
   "id": "f60ea9b8",
   "metadata": {},
   "source": [
    "# Installing pySDC\n",
    "\n"
   ]
  },
  {
   "cell_type": "markdown",
   "id": "d99edb74",
   "metadata": {},
   "source": [
    "## Downloading the repository\n",
    "There are multiple ways to download pySDC, but if you plan to work with pySDC directly, the best way is to\n",
    "(1) [fork](<https://docs.github.com/en/pull-requests/collaborating-with-pull-requests/working-with-forks>)\n",
    "the main repository to your Github account and then\n",
    "(2) [clone](<https://docs.github.com/en/repositories/creating-and-managing-repositories/cloning-a-repository>) it from there.\n",
    "This way you can work on a separate repository while being able to pull updates from the main one and\n",
    "starting pull requests to merge back your ideas.\n",
    "You can also clone the main repository, but this will not accept your pushes.\n",
    "Downloading `pySDC` as a tarball is the easiest, but also the least favorable solution.\n",
    "Finally, the code can also be obtained using ``pip install``, but then sources are not that easily accessible.\n",
    "\n",
    "If you are reading this, it is likely that you already cloned your fork from GitHub, but if not, please run the following:\n",
    "\n",
    "```\n",
    "    git clone https://github.com/<your_account>/pySDC.git\n",
    "```\n",
    "\n",
    "Note that this folder and all changes in it will remain even if you leave the virtual environment.\n",
    "    Only installations made with `micromamba`/`conda` or `pip` are affected by changing the environment.\n",
    "Use [branches](<https://docs.github.com/en/pull-requests/collaborating-with-pull-requests/proposing-changes-to-your-work-with-pull-requests/about-branches>)\n",
    "to isolate development work.\n"
   ]
  },
  {
   "cell_type": "markdown",
   "id": "80fc272b",
   "metadata": {},
   "source": [
    "## Virtual environments\n",
    "We highly recommend to use a virtual environment.\n",
    "Popular managers for this are [conda](https://docs.conda.io/en/latest/) or [micromamba](<https://mamba.readthedocs.io/en/latest/user_guide/micromamba.html>).\n",
    "We will now create a virtual environment with all the packages we need in the tutorial and install it as a kernel for the jupyter notebook.\n",
    "**Please enter the name of the command associated with your package manager below.**"
   ]
  },
  {
   "cell_type": "code",
   "execution_count": null,
   "id": "651a7fbf",
   "metadata": {},
   "outputs": [],
   "source": [
    "%%bash\n",
    "export package_manager=\"conda\"\n",
    "${package_manager} env create -f environment-tutorial.yml\n",
    "${package_manager} install ipython\n",
    "pip install jdc\n",
    "python -m ipykernel install --user --name=pySDC_tutorial"
   ]
  },
  {
   "cell_type": "markdown",
   "id": "49002420",
   "metadata": {},
   "source": [
    "We have now created a new virtual environment called `pySDC_tutorial` and installed it as a kernel of the same name such that we can use it in jupyter.\n",
    "\n",
    "**Please switch to that kernel now!**\n",
    "\n",
    "The kernel can be switched by going to `Kernel > Change kernel > pySDC_tutorial` in the toolbar above.\n",
    "However, we first need to make our new kernel available by reloading the page in the browser."
   ]
  },
  {
   "cell_type": "markdown",
   "id": "b6843007",
   "metadata": {},
   "source": [
    "We have installed all the dependencies when creating the virtual environment, but we haven't installed pySDC itself.\n",
    "Let's do that in editable mode with the following command:"
   ]
  },
  {
   "cell_type": "code",
   "execution_count": null,
   "id": "d8e932c5",
   "metadata": {
    "scrolled": false
   },
   "outputs": [],
   "source": [
    "%%bash\n",
    "python -m pip install -e ../../../"
   ]
  },
  {
   "cell_type": "markdown",
   "id": "9a6eeadc",
   "metadata": {},
   "source": [
    "## Testing\n",
    "We will now test that everything works as expected by running a few of the tests that are executed every time somebody tries to make changes to the repository.\n",
    "In particular, we make sure that MPI related things work, but we skip tests that take too long right now."
   ]
  },
  {
   "cell_type": "code",
   "execution_count": null,
   "id": "4ee4913b",
   "metadata": {
    "scrolled": false
   },
   "outputs": [],
   "source": [
    "%%bash\n",
    "cd ../../../\n",
    "python -m pytest -m \"mpi4py and not slow\" pySDC/tests"
   ]
  },
  {
   "cell_type": "markdown",
   "id": "2e06aecc",
   "metadata": {},
   "source": [
    "If all tests passed, please move on to the next notebook!"
   ]
  }
 ],
 "metadata": {
  "kernelspec": {
   "display_name": "pySDC_tutorial",
   "language": "python",
   "name": "pysdc_tutorial"
  },
  "language_info": {
   "codemirror_mode": {
    "name": "ipython",
    "version": 3
   },
   "file_extension": ".py",
   "mimetype": "text/x-python",
   "name": "python",
   "nbconvert_exporter": "python",
   "pygments_lexer": "ipython3",
   "version": "3.10.12"
  }
 },
 "nbformat": 4,
 "nbformat_minor": 5
}
